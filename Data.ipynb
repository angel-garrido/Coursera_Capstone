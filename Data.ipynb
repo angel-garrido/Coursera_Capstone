{
    "cells": [
        {
            "cell_type": "markdown",
            "metadata": {
                "collapsed": true
            },
            "source": "# 2. Data\n\nData supplied by Seattle GeoData will be used in this project. This dataset has accident traffic records from 2004 to present in Seattle area. \n\nData is available at https://s3.us.cloud-object-storage.appdomain.cloud/cf-courses-data/CognitiveClass/DP0701EN/version-2/Data-Collisions.csv\n\nThe data was collected by the Seattle Police Department and Accident Traffic Records Department from 2004 to present. It consists of 194,673 collisions and 37 independent variables. The target variable, \u201cseveritycode\u201d has two outputs in our data set: 1 - Property Damage Only Collision and 2 \u2013 Injury Collision. \n\nThe following attributes will be used in order the create the model: \n\n- personcount - number of people involved in collision.\n- pedcount - number of pedestrians involved in collision.\n- pedcylcount - number of cyclists involved in collision.\n- vehcount - number of vehicles involved in collision.\n- incdttm \u2013 date and hour of collision.\n- junctiontype - 7 types describing collision at intersection, mid-block, driveway and whether collision is related to intersection.\n- sdot_coldesc - description of Seattle collision codes.\n- weather - A description of the weather conditions during the time of the collision.\n- roadcond - The condition of the road during the collision.\n- lightcond - The light conditions during the collision."
        },
        {
            "cell_type": "code",
            "execution_count": null,
            "metadata": {},
            "outputs": [],
            "source": ""
        }
    ],
    "metadata": {
        "kernelspec": {
            "display_name": "Python 3.6",
            "language": "python",
            "name": "python3"
        },
        "language_info": {
            "codemirror_mode": {
                "name": "ipython",
                "version": 3
            },
            "file_extension": ".py",
            "mimetype": "text/x-python",
            "name": "python",
            "nbconvert_exporter": "python",
            "pygments_lexer": "ipython3",
            "version": "3.6.9"
        }
    },
    "nbformat": 4,
    "nbformat_minor": 1
}