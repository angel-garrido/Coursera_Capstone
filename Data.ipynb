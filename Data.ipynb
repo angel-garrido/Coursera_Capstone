{
    "cells": [
        {
            "attachments": {},
            "cell_type": "markdown",
            "metadata": {
                "collapsed": true
            },
            "source": "# 2. Data\n\nData supplied by Seattle GeoData will be used in this project. This dataset has accident traffic records from 2014 to present in Seattle area. \n\nData is available at https://s3.us.cloud-object-storage.appdomain.cloud/cf-courses-data/CognitiveClass/DP0701EN/version-2/Data-Collisions.csv\n\nThe data consists of 37 independent variables and 194,673 rows. The dependent variable, \u201cSEVERITYCODE\u201d, contains numbers that correspond to different levels of severity caused by an accident from 0 to 4.\n\nSeverity codes are as follows:\n\n0 Little to no Probability (Clear Conditions)\n1: Very Low Probability \u2014 Chance or Property Damage\n2: Low Probability \u2014 Chance of Injury\n3: Mild Probability \u2014 Chance of Serious Injury\n4: High Probability \u2014 Chance of Fatality\n\nThe attributes explored in detail in this project are: \n\n- PERSONCOUNT: The total number of people involved in the collision.\n- PEDCOUNT: The number of pedestrians involved in the collision. This is entered by the state.\n- PEDCYLCOUNT: The number of bicycles involved in the collision. This is entered by the state. \n- VEHCOUNT: The number of vehicles involved in the collision. This is entered by the state. \n- INCDATE: The date of the incident. \n- JUNCTIONTYPE: Category of junction at which collision took place \n- SDOT_COLDESC: A description of the collision corresponding to the collision code. \n- WEATHER: A description of the weather conditions during the time of the collision. \n- ROADCOND: The condition of the road during the collision. \n- LIGHTCOND: The light conditions during the collision. \n- SPEEDING: Whether or not speeding was a factor in the collision. (Y/N)"
        }
    ],
    "metadata": {
        "kernelspec": {
            "display_name": "Python 3.6",
            "language": "python",
            "name": "python3"
        },
        "language_info": {
            "codemirror_mode": {
                "name": "ipython",
                "version": 3
            },
            "file_extension": ".py",
            "mimetype": "text/x-python",
            "name": "python",
            "nbconvert_exporter": "python",
            "pygments_lexer": "ipython3",
            "version": "3.6.9"
        }
    },
    "nbformat": 4,
    "nbformat_minor": 1
}